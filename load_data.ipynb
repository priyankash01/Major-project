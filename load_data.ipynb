{
 "cells": [
  {
   "cell_type": "code",
   "execution_count": 3,
   "id": "4e06076f",
   "metadata": {},
   "outputs": [],
   "source": [
    "import pandas as pd\n",
    "import matplotlib.pyplot as plt\n",
    "import seaborn as sns\n"
   ]
  },
  {
   "cell_type": "code",
   "execution_count": 8,
   "id": "1b1da13e",
   "metadata": {},
   "outputs": [],
   "source": [
    "stress1 = pd.read_csv(\n",
    "    \"MindSync_Data/stress_dataset_twitter1.csv\", \n",
    "    sep=';',            # semicolon separator\n",
    "    usecols=[0,1],      # only first 2 columns (Text, Label)\n",
    "    encoding='utf-8'\n",
    ")"
   ]
  },
  {
   "cell_type": "code",
   "execution_count": 9,
   "id": "24aeb9af",
   "metadata": {},
   "outputs": [],
   "source": [
    "stress2 = pd.read_csv(\n",
    "    \"MindSync_Data/stress_dataset_twitter2.csv\", \n",
    "    sep=';', \n",
    "    usecols=[0,1], \n",
    "    encoding='utf-8'\n",
    ")"
   ]
  },
  {
   "cell_type": "code",
   "execution_count": 11,
   "id": "92453a03",
   "metadata": {},
   "outputs": [
    {
     "name": "stdout",
     "output_type": "stream",
     "text": [
      "Index(['id', 'text', 'example_very_unclear', 'admiration', 'amusement',\n",
      "       'anger', 'annoyance', 'approval', 'caring', 'confusion', 'curiosity',\n",
      "       'desire', 'disappointment', 'disapproval', 'disgust', 'embarrassment',\n",
      "       'excitement', 'fear', 'gratitude', 'grief', 'joy', 'love',\n",
      "       'nervousness', 'optimism', 'pride', 'realization', 'relief', 'remorse',\n",
      "       'sadness', 'surprise', 'neutral'],\n",
      "      dtype='object')\n"
     ]
    }
   ],
   "source": [
    "goemotions_cols = pd.read_csv(\"MindSync_Data/go_emotions_dataset.csv\", nrows=5)\n",
    "print(goemotions_cols.columns)"
   ]
  },
  {
   "cell_type": "code",
   "execution_count": 12,
   "id": "24671eed",
   "metadata": {},
   "outputs": [],
   "source": [
    "goemotions = pd.read_csv(\"MindSync_Data/go_emotions_dataset.csv\", usecols=['text'] + [\n",
    "    'admiration', 'amusement', 'anger', 'annoyance', 'approval', 'caring',\n",
    "    'confusion', 'curiosity', 'desire', 'disappointment', 'disapproval',\n",
    "    'disgust', 'embarrassment', 'excitement', 'fear', 'gratitude', 'grief',\n",
    "    'joy', 'love', 'nervousness', 'optimism', 'pride', 'realization',\n",
    "    'relief', 'remorse', 'sadness', 'surprise', 'neutral'\n",
    "], encoding='utf-8')"
   ]
  },
  {
   "cell_type": "code",
   "execution_count": 14,
   "id": "9660f031",
   "metadata": {},
   "outputs": [],
   "source": [
    "stress_df = pd.concat([stress1, stress2], ignore_index=True)"
   ]
  },
  {
   "cell_type": "code",
   "execution_count": 15,
   "id": "cf086181",
   "metadata": {},
   "outputs": [
    {
     "name": "stdout",
     "output_type": "stream",
     "text": [
      "                                                text  label hashtags\n",
      "0   speak-no-evil monkey Can I Be Honest With You...    1.0      NaN\n",
      "1  Frau Goebbels early signs of psychosis psychot...    1.0      NaN\n",
      "2  A lot of work and unfulfilled tasks plunge you...    1.0      NaN\n",
      "3  Private health insurance delivers value for yo...    1.0      NaN\n",
      "4  XpertOnline offers you the convenience of view...    1.0      NaN\n",
      "Index(['text', 'label', 'hashtags'], dtype='object')\n"
     ]
    }
   ],
   "source": [
    "print(stress_df.head())\n",
    "print(stress_df.columns)"
   ]
  },
  {
   "cell_type": "code",
   "execution_count": 17,
   "id": "4748627e",
   "metadata": {},
   "outputs": [
    {
     "name": "stdout",
     "output_type": "stream",
     "text": [
      "Index(['text', 'label', 'hashtags'], dtype='object')\n"
     ]
    }
   ],
   "source": [
    "print(stress_df.columns)\n"
   ]
  },
  {
   "cell_type": "code",
   "execution_count": 18,
   "id": "fa5ce5a3",
   "metadata": {},
   "outputs": [],
   "source": [
    "# Agar column name 'text' hai\n",
    "stress_df['text'] = stress_df['text'].str.lower()\n",
    "stress_df['text'] = stress_df['text'].str.replace(r'http\\S+|www\\S+','', regex=True)\n",
    "stress_df['text'] = stress_df['text'].str.replace(r'[^\\w\\s]', '', regex=True)\n",
    "stress_df['text'] = stress_df['text'].str.strip()\n"
   ]
  },
  {
   "cell_type": "code",
   "execution_count": 19,
   "id": "23f3142f",
   "metadata": {},
   "outputs": [
    {
     "name": "stdout",
     "output_type": "stream",
     "text": [
      "                                                text  label hashtags\n",
      "0  speaknoevil monkey can i be honest with you gl...    1.0      NaN\n",
      "1  frau goebbels early signs of psychosis psychot...    1.0      NaN\n",
      "2  a lot of work and unfulfilled tasks plunge you...    1.0      NaN\n",
      "3  private health insurance delivers value for yo...    1.0      NaN\n",
      "4  xpertonline offers you the convenience of view...    1.0      NaN\n"
     ]
    }
   ],
   "source": [
    "# Lowercase\n",
    "stress_df['text'] = stress_df['text'].str.lower()\n",
    "\n",
    "# Remove URLs\n",
    "stress_df['text'] = stress_df['text'].str.replace(r'http\\S+|www\\S+','', regex=True)\n",
    "\n",
    "# Remove punctuation\n",
    "stress_df['text'] = stress_df['text'].str.replace(r'[^\\w\\s]', '', regex=True)\n",
    "\n",
    "# Strip extra spaces\n",
    "stress_df['text'] = stress_df['text'].str.strip()\n",
    "\n",
    "# Check\n",
    "print(stress_df.head())\n"
   ]
  },
  {
   "cell_type": "code",
   "execution_count": 20,
   "id": "d60fe95b",
   "metadata": {},
   "outputs": [
    {
     "name": "stdout",
     "output_type": "stream",
     "text": [
      "                                                text  admiration  amusement  \\\n",
      "0                                     that game hurt           0          0   \n",
      "1  sexuality shouldnt be a grouping category it m...           0          0   \n",
      "2         you do right if you dont care then fuck em           0          0   \n",
      "3                                  man i love reddit           0          0   \n",
      "4    name was nowhere near them he was by the falcon           0          0   \n",
      "\n",
      "   anger  annoyance  approval  caring  confusion  curiosity  desire  ...  \\\n",
      "0      0          0         0       0          0          0       0  ...   \n",
      "1      0          0         0       0          0          0       0  ...   \n",
      "2      0          0         0       0          0          0       0  ...   \n",
      "3      0          0         0       0          0          0       0  ...   \n",
      "4      0          0         0       0          0          0       0  ...   \n",
      "\n",
      "   love  nervousness  optimism  pride  realization  relief  remorse  sadness  \\\n",
      "0     0            0         0      0            0       0        0        1   \n",
      "1     0            0         0      0            0       0        0        0   \n",
      "2     0            0         0      0            0       0        0        0   \n",
      "3     1            0         0      0            0       0        0        0   \n",
      "4     0            0         0      0            0       0        0        0   \n",
      "\n",
      "   surprise  neutral  \n",
      "0         0        0  \n",
      "1         0        0  \n",
      "2         0        1  \n",
      "3         0        0  \n",
      "4         0        1  \n",
      "\n",
      "[5 rows x 29 columns]\n"
     ]
    }
   ],
   "source": [
    "# Lowercase\n",
    "goemotions['text'] = goemotions['text'].str.lower()\n",
    "\n",
    "# Remove URLs\n",
    "goemotions['text'] = goemotions['text'].str.replace(r'http\\S+|www\\S+','', regex=True)\n",
    "\n",
    "# Remove punctuation\n",
    "goemotions['text'] = goemotions['text'].str.replace(r'[^\\w\\s]', '', regex=True)\n",
    "\n",
    "# Strip extra spaces\n",
    "goemotions['text'] = goemotions['text'].str.strip()\n",
    "\n",
    "# Check\n",
    "print(goemotions.head())\n"
   ]
  },
  {
   "cell_type": "code",
   "execution_count": null,
   "id": "0843e33c",
   "metadata": {},
   "outputs": [],
   "source": []
  }
 ],
 "metadata": {
  "kernelspec": {
   "display_name": "base",
   "language": "python",
   "name": "python3"
  },
  "language_info": {
   "codemirror_mode": {
    "name": "ipython",
    "version": 3
   },
   "file_extension": ".py",
   "mimetype": "text/x-python",
   "name": "python",
   "nbconvert_exporter": "python",
   "pygments_lexer": "ipython3",
   "version": "3.11.4"
  }
 },
 "nbformat": 4,
 "nbformat_minor": 5
}
